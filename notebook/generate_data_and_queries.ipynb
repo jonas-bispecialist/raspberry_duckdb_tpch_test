{
 "cells": [
  {
   "cell_type": "code",
   "execution_count": 4,
   "id": "ee2ec7de",
   "metadata": {},
   "outputs": [],
   "source": [
    "from pyprojroot import here\n",
    "import duckdb"
   ]
  },
  {
   "cell_type": "code",
   "execution_count": 8,
   "id": "5c3ad220",
   "metadata": {},
   "outputs": [
    {
     "name": "stdout",
     "output_type": "stream",
     "text": [
      "c:\\Users\\JonasHertz\\git\\bispecialist\\raspberry_duckdb_tcph_test\\src\\raw\n"
     ]
    }
   ],
   "source": [
    "\n",
    "raw_folder = here() / \"src\" / \"raw\"\n",
    "src_folder = here() / \"src\"\n",
    "query_folder =  here() / \"src\" / \"query\"\n",
    "processed_folder = here() / \"src\" / \"processed\"\n",
    "scale_factor = 1\n",
    "\n",
    "print(raw_folder)"
   ]
  },
  {
   "cell_type": "code",
   "execution_count": 14,
   "id": "bc0ceadf",
   "metadata": {},
   "outputs": [],
   "source": [
    "# Create duckdb database\n",
    "con = duckdb.connect()"
   ]
  },
  {
   "cell_type": "code",
   "execution_count": 16,
   "id": "7abf7c31",
   "metadata": {},
   "outputs": [
    {
     "data": {
      "text/plain": [
       "<duckdb.duckdb.DuckDBPyConnection at 0x25a3e8a1bf0>"
      ]
     },
     "execution_count": 16,
     "metadata": {},
     "output_type": "execute_result"
    }
   ],
   "source": [
    "\n",
    "# Generate TPC-H data\n",
    "con.execute(\"INSTALL tpch; LOAD tpch;\")\n",
    "con.execute(f\"CALL dbgen(sf={scale_factor});\")  # sf = scale factor"
   ]
  },
  {
   "cell_type": "code",
   "execution_count": 17,
   "id": "b0bbee56",
   "metadata": {},
   "outputs": [],
   "source": [
    "tables = [\"nation\", \"region\", \"part\", \"supplier\", \"partsupp\", \"customer\", \"orders\", \"lineitem\"]\n",
    "\n",
    "(raw_folder / f\"{scale_factor:02d}\").mkdir(parents=True, exist_ok=True)\n",
    "\n",
    "for table in tables:\n",
    "    path = raw_folder / f\"{scale_factor:02d}\" / f\"{table}.parquet\"\n",
    "    con.execute(f\"COPY {table} TO '{path}' (FORMAT 'parquet');\")\n",
    "\n",
    "con.close()"
   ]
  },
  {
   "cell_type": "code",
   "execution_count": 18,
   "id": "e92917bd",
   "metadata": {},
   "outputs": [],
   "source": [
    "con = duckdb.connect()\n",
    "queries = con.execute(\"SELECT * FROM tpch_queries()\").fetchall()\n",
    "\n",
    "for i, row in enumerate(queries, 1):\n",
    "    sql = row[1]\n",
    "    (query_folder / f\"tpch_q{i:02}.sql\").write_text(sql)\n",
    "\n",
    "con.close()"
   ]
  }
 ],
 "metadata": {
  "kernelspec": {
   "display_name": "Python 3",
   "language": "python",
   "name": "python3"
  },
  "language_info": {
   "codemirror_mode": {
    "name": "ipython",
    "version": 3
   },
   "file_extension": ".py",
   "mimetype": "text/x-python",
   "name": "python",
   "nbconvert_exporter": "python",
   "pygments_lexer": "ipython3",
   "version": "3.11.9"
  }
 },
 "nbformat": 4,
 "nbformat_minor": 5
}
