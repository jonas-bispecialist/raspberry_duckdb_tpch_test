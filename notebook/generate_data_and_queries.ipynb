{
 "cells": [
  {
   "cell_type": "code",
   "execution_count": 1,
   "id": "ee2ec7de",
   "metadata": {},
   "outputs": [],
   "source": [
    "from pyprojroot import here\n",
    "import duckdb"
   ]
  },
  {
   "cell_type": "code",
   "execution_count": 7,
   "id": "5c3ad220",
   "metadata": {},
   "outputs": [
    {
     "name": "stdout",
     "output_type": "stream",
     "text": [
      "/workspace/src/raw\n"
     ]
    }
   ],
   "source": [
    "\n",
    "raw_folder = here() / \"src\" / \"raw\"\n",
    "src_folder = here() / \"src\"\n",
    "query_folder =  here() / \"src\" / \"query\"\n",
    "processed_folder = here() / \"src\" / \"processed\"\n",
    "scale_factor = 5\n",
    "\n",
    "print(raw_folder)"
   ]
  },
  {
   "cell_type": "code",
   "execution_count": 8,
   "id": "62188f12",
   "metadata": {},
   "outputs": [
    {
     "name": "stdout",
     "output_type": "stream",
     "text": [
      "/workspace/src/raw directory already exists\n",
      "Creating /workspace/src/query directory...\n",
      "Creating /workspace/src/processed directory...\n"
     ]
    }
   ],
   "source": [
    "# Create folders if they don't exist\n",
    "for folder in [raw_folder, query_folder, processed_folder]:\n",
    "    if not folder.exists():\n",
    "        print(f\"Creating {folder} directory...\")\n",
    "        folder.mkdir(parents=True, exist_ok=True)\n",
    "    else:\n",
    "        print(f\"{folder} directory already exists\")\n"
   ]
  },
  {
   "cell_type": "code",
   "execution_count": 9,
   "id": "bc0ceadf",
   "metadata": {},
   "outputs": [],
   "source": [
    "# Create duckdb database\n",
    "con = duckdb.connect()"
   ]
  },
  {
   "cell_type": "code",
   "execution_count": 4,
   "id": "7abf7c31",
   "metadata": {},
   "outputs": [
    {
     "data": {
      "application/vnd.jupyter.widget-view+json": {
       "model_id": "341ad37ebbde479fa345f951a68c3e9c",
       "version_major": 2,
       "version_minor": 0
      },
      "text/plain": [
       "FloatProgress(value=0.0, layout=Layout(width='auto'), style=ProgressStyle(bar_color='black'))"
      ]
     },
     "metadata": {},
     "output_type": "display_data"
    },
    {
     "data": {
      "text/plain": [
       "<duckdb.duckdb.DuckDBPyConnection at 0x7cd3a63e7070>"
      ]
     },
     "execution_count": 4,
     "metadata": {},
     "output_type": "execute_result"
    }
   ],
   "source": [
    "\n",
    "# Generate TPC-H data\n",
    "con.execute(\"INSTALL tpch; LOAD tpch;\")\n",
    "con.execute(f\"CALL dbgen(sf={scale_factor});\")  # sf = scale factor"
   ]
  },
  {
   "cell_type": "code",
   "execution_count": 5,
   "id": "b0bbee56",
   "metadata": {},
   "outputs": [
    {
     "data": {
      "application/vnd.jupyter.widget-view+json": {
       "model_id": "c40f432cb03e4a50b011670edf8417d1",
       "version_major": 2,
       "version_minor": 0
      },
      "text/plain": [
       "FloatProgress(value=0.0, layout=Layout(width='auto'), style=ProgressStyle(bar_color='black'))"
      ]
     },
     "metadata": {},
     "output_type": "display_data"
    },
    {
     "data": {
      "application/vnd.jupyter.widget-view+json": {
       "model_id": "80006fa489d7412690a6f15ef6876dc1",
       "version_major": 2,
       "version_minor": 0
      },
      "text/plain": [
       "FloatProgress(value=0.0, layout=Layout(width='auto'), style=ProgressStyle(bar_color='black'))"
      ]
     },
     "metadata": {},
     "output_type": "display_data"
    }
   ],
   "source": [
    "tables = [\"nation\", \"region\", \"part\", \"supplier\", \"partsupp\", \"customer\", \"orders\", \"lineitem\"]\n",
    "\n",
    "(raw_folder / f\"{scale_factor:02d}\").mkdir(parents=True, exist_ok=True)\n",
    "\n",
    "for table in tables:\n",
    "    path = raw_folder / f\"{scale_factor:02d}\" / f\"{table}.parquet\"\n",
    "    con.execute(f\"COPY {table} TO '{path}' (FORMAT 'parquet');\")\n",
    "\n",
    "con.close()"
   ]
  },
  {
   "cell_type": "code",
   "execution_count": 10,
   "id": "e92917bd",
   "metadata": {},
   "outputs": [],
   "source": [
    "con = duckdb.connect()\n",
    "queries = con.execute(\"SELECT * FROM tpch_queries()\").fetchall()\n",
    "\n",
    "for i, row in enumerate(queries, 1):\n",
    "    sql = row[1]\n",
    "    (query_folder / f\"tpch_q{i:02}.sql\").write_text(sql)\n",
    "\n",
    "con.close()"
   ]
  }
 ],
 "metadata": {
  "kernelspec": {
   "display_name": "raspberry_duckdb_tpch_test",
   "language": "python",
   "name": "python3"
  },
  "language_info": {
   "codemirror_mode": {
    "name": "ipython",
    "version": 3
   },
   "file_extension": ".py",
   "mimetype": "text/x-python",
   "name": "python",
   "nbconvert_exporter": "python",
   "pygments_lexer": "ipython3",
   "version": "3.11.12"
  }
 },
 "nbformat": 4,
 "nbformat_minor": 5
}
